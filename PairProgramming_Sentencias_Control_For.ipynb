{
 "cells": [
  {
   "cell_type": "markdown",
   "metadata": {},
   "source": [
    "**EJERCICIOS BUCLES FOR**"
   ]
  },
  {
   "cell_type": "code",
   "execution_count": 1,
   "metadata": {},
   "outputs": [
    {
     "name": "stdout",
     "output_type": "stream",
     "text": [
      "1\n",
      "2\n",
      "3\n",
      "4\n",
      "5\n"
     ]
    }
   ],
   "source": [
    "# 1. Imprimir los números del 1 al 5 utilizando un bucle for\n",
    "# Descripción: Utiliza un bucle for para imprimir los números del 1 al 5 (incluido) en orden ascendente.\n",
    "\n",
    "for x in range(1,6):\n",
    "    print(x)"
   ]
  },
  {
   "cell_type": "code",
   "execution_count": 2,
   "metadata": {},
   "outputs": [
    {
     "name": "stdout",
     "output_type": "stream",
     "text": [
      "55\n"
     ]
    }
   ],
   "source": [
    "# 2. Calcular la suma de los primeros 10 números naturales utilizando un bucle for\n",
    "# Descripción: Utiliza un bucle for para calcular la suma de los primeros 10 números naturales (1 + 2 + 3 + ... + 10).\n",
    "\n",
    "suma = 0\n",
    "for x in range(1,11):\n",
    "    suma += x \n",
    "    \n",
    "print(suma)\n"
   ]
  },
  {
   "cell_type": "code",
   "execution_count": 4,
   "metadata": {},
   "outputs": [
    {
     "name": "stdout",
     "output_type": "stream",
     "text": [
      "240\n"
     ]
    }
   ],
   "source": [
    "# 3. Calcular el producto de los elementos de una lista\n",
    "# Descripción: Dada una lista de números, utiliza un bucle for para calcular el producto de todos los elementos.\n",
    "\n",
    "producto = 1\n",
    "numeros = [2, 5, 8, 3]\n",
    "\n",
    "for num in numeros:\n",
    "    producto *= num\n",
    "\n",
    "print(producto)"
   ]
  },
  {
   "cell_type": "code",
   "execution_count": 5,
   "metadata": {},
   "outputs": [
    {
     "name": "stdout",
     "output_type": "stream",
     "text": [
      "B\n",
      "u\n",
      "e\n",
      "n\n",
      "o\n",
      "s\n",
      " \n",
      "d\n",
      "í\n",
      "a\n",
      "s\n"
     ]
    }
   ],
   "source": [
    "# 4. Imprimir los caracteres de una cadena de texto\n",
    "# Descripción: Dada una cadena de texto, utiliza un bucle for para imprimir cada carácter en una línea separada.\n",
    "\n",
    "cadena = 'Buenos días'\n",
    "\n",
    "for x in cadena:\n",
    "    print(x)"
   ]
  },
  {
   "cell_type": "code",
   "execution_count": 6,
   "metadata": {},
   "outputs": [
    {
     "name": "stdout",
     "output_type": "stream",
     "text": [
      "2\n",
      "4\n",
      "6\n",
      "8\n",
      "10\n",
      "12\n",
      "14\n",
      "16\n",
      "18\n",
      "20\n",
      "22\n",
      "24\n",
      "26\n",
      "28\n",
      "30\n",
      "32\n",
      "34\n",
      "36\n",
      "38\n",
      "40\n",
      "42\n",
      "44\n",
      "46\n",
      "48\n",
      "50\n",
      "52\n",
      "54\n",
      "56\n",
      "58\n",
      "60\n",
      "62\n",
      "64\n",
      "66\n",
      "68\n",
      "70\n",
      "72\n",
      "74\n",
      "76\n",
      "78\n",
      "80\n",
      "82\n",
      "84\n",
      "86\n",
      "88\n",
      "90\n",
      "92\n",
      "94\n",
      "96\n",
      "98\n",
      "100\n"
     ]
    }
   ],
   "source": [
    "# 5. Imprimir los números pares del 1 al 100 utilizando un bucle for\n",
    "# Descripción: Utiliza un bucle for para imprimir los números pares del 1 al 100 en orden ascendente.\n",
    "\n",
    "for x in range(1,101):\n",
    "    if x % 2 == 0:\n",
    "        print(x)"
   ]
  },
  {
   "cell_type": "code",
   "execution_count": 3,
   "metadata": {},
   "outputs": [
    {
     "name": "stdout",
     "output_type": "stream",
     "text": [
      "1\n",
      "2\n",
      "3\n",
      "4\n",
      "5\n",
      "6\n",
      "7\n",
      "8\n",
      "9\n",
      "10\n",
      "11\n",
      "12\n",
      "13\n",
      "14\n",
      "15\n",
      "16\n",
      "17\n",
      "18\n",
      "19\n",
      "20\n",
      "21\n",
      "22\n",
      "23\n",
      "24\n",
      "25\n",
      "26\n",
      "27\n",
      "28\n",
      "29\n",
      "30\n",
      "31\n",
      "32\n",
      "33\n",
      "34\n",
      "35\n",
      "36\n",
      "37\n",
      "38\n",
      "39\n",
      "40\n",
      "41\n",
      "42\n",
      "43\n",
      "44\n",
      "45\n",
      "46\n",
      "47\n",
      "48\n",
      "49\n",
      "50\n"
     ]
    }
   ],
   "source": [
    "# 6. Imprimir los números primos del 1 al 50 utilizando un bucle for\n",
    "# Descripción: Utiliza un bucle for para imprimir los números primos del 1 al 50 en orden ascendente.\n",
    "# NOTA: Según la Wikipedia, un número primo es un número natural mayor que 1 que no tiene divisores positivos más que 1 y él mismo.\n",
    "\n",
    "for x in range(1,51):\n",
    "    if x % x == 0 and x % 1 == 0:\n",
    "        print(x)"
   ]
  },
  {
   "cell_type": "code",
   "execution_count": null,
   "metadata": {},
   "outputs": [],
   "source": []
  },
  {
   "cell_type": "code",
   "execution_count": 10,
   "metadata": {},
   "outputs": [
    {
     "name": "stdout",
     "output_type": "stream",
     "text": [
      "40320\n"
     ]
    }
   ],
   "source": [
    "# 7. Calcular el factorial de un número utilizando un bucle for\n",
    "# Descripción: Dado un número entero positivo, calcula su factorial utilizando un bucle for.\n",
    "\n",
    "num = 8\n",
    "factorial = 1\n",
    "for x in range(1, num +1):\n",
    "    factorial *= x\n",
    "print(factorial)\n",
    "\n",
    "# "
   ]
  },
  {
   "cell_type": "markdown",
   "metadata": {},
   "source": [
    "La expresión factorial *= x es equivalente a factorial = factorial * x, lo que significa que estás multiplicando el valor actual de factorial por x y luego asignando el resultado de esa multiplicación de nuevo a factorial."
   ]
  },
  {
   "cell_type": "code",
   "execution_count": null,
   "metadata": {},
   "outputs": [],
   "source": [
    "# 8. Calcular el factorial de un número utilizando un bucle for\n",
    "# Descripción: Dado un número entero positivo, calcula su factorial utilizando un bucle for.\n",
    "\n",
    "# IGUAL QUE EL ANTERIOR?"
   ]
  },
  {
   "cell_type": "markdown",
   "metadata": {},
   "source": [
    "**EJERCICIOS LIST COMPREHENSION**"
   ]
  },
  {
   "cell_type": "code",
   "execution_count": 11,
   "metadata": {},
   "outputs": [
    {
     "name": "stdout",
     "output_type": "stream",
     "text": [
      "[0, 2, 4, 6, 8, 10, 12, 14, 16, 18, 20]\n"
     ]
    }
   ],
   "source": [
    "# 1.Generar una lista de los números pares del 1 al 20.\n",
    "# Descripción: Utiliza list comprehension para generar una lista que contenga todos los números pares en el rango del 1 al 20.\n",
    "\n",
    "lista_pares = []\n",
    "\n",
    "for x in range(0,21):\n",
    "    if x % 2 == 0:\n",
    "        lista_pares.append(x)\n",
    "        \n",
    "print(lista_pares)"
   ]
  },
  {
   "cell_type": "code",
   "execution_count": 14,
   "metadata": {},
   "outputs": [
    {
     "name": "stdout",
     "output_type": "stream",
     "text": [
      "['e', 'a', 'o', 'a', 'o', 'a', 'a']\n"
     ]
    }
   ],
   "source": [
    "# 2. Obtener una lista de las vocales en una cadena de texto.\n",
    "# Descripción: Utiliza list comprehension para crear una lista que contenga todas las vocales presentes en una cadena de texto (sin repetición).\n",
    "\n",
    "cadena = \"El gato blanco salta\"\n",
    "vocales = ['a', 'e', 'i', 'o', 'u']\n",
    "voc_cadena = []\n",
    "\n",
    "voc_cadena = [letra for letra in cadena.lower() if letra in 'aeiou']\n",
    "print(voc_cadena)\n",
    "\n",
    "# NO SÉ CÓMO HACER PARA QUE NO SE REPITAN LAS VOCALES"
   ]
  },
  {
   "cell_type": "code",
   "execution_count": 16,
   "metadata": {},
   "outputs": [
    {
     "name": "stdout",
     "output_type": "stream",
     "text": [
      "[8, 3, 39]\n"
     ]
    }
   ],
   "source": [
    "# 3. Filtrar los números positivos de una lista y calcular su cuadrado.\n",
    "# Descripción: Utiliza list comprehension para filtrar los números positivos de una lista y calcular el cuadrado de cada uno.\n",
    "\n",
    "lista_num = [-5, 8, -24, -36, 3, 39, -5, 0]\n",
    "\n",
    "num_positivos = [num for num in lista_num if num > 0]\n",
    "\n",
    "print(num_positivos)"
   ]
  },
  {
   "cell_type": "markdown",
   "metadata": {},
   "source": [
    "**EJERCICIOS TRY EXCEPT**"
   ]
  },
  {
   "cell_type": "code",
   "execution_count": null,
   "metadata": {},
   "outputs": [],
   "source": [
    "# 1. Realizar una búsqueda en una lista y capturar una excepción en caso de valor no encontrado.\n",
    "# Descripción: Solicita al usuario una lista de nombres y un nombre para buscar en la lista. \n",
    "# Intenta encontrar el nombre en la lista y utiliza las sentencias try y except para capturar la excepción en caso de que el nombre no sea encontrado."
   ]
  }
 ],
 "metadata": {
  "kernelspec": {
   "display_name": "Python 3 (ipykernel)",
   "language": "python",
   "name": "python3"
  },
  "language_info": {
   "codemirror_mode": {
    "name": "ipython",
    "version": 3
   },
   "file_extension": ".py",
   "mimetype": "text/x-python",
   "name": "python",
   "nbconvert_exporter": "python",
   "pygments_lexer": "ipython3",
   "version": "3.9.7"
  }
 },
 "nbformat": 4,
 "nbformat_minor": 4
}
