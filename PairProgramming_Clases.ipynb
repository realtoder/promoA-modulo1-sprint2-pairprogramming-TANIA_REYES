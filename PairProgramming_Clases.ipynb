{
 "cells": [
  {
   "cell_type": "markdown",
   "metadata": {},
   "source": [
    "En este ejercicio de pair programming, vamos a crear una clase para gestionar la información de los empleados de nuestra empresa. Siguiendo las indicaciones del jefe, necesitamos organizar los datos de cada empleado de manera más estructurada."
   ]
  },
  {
   "cell_type": "markdown",
   "metadata": {},
   "source": [
    "La clase Empleados permite gestionar información relacionada con los empleados de una empresa, con las siguientes características:\n",
    "\n",
    "Debes crear una clase llamada \"Empleados\" que tenga los siguientes atributos: nombre, apellidos, edad, posicion, año , vacaciones(cantidad de días de vacaciones que le quedan al empleado) y herramientas.\n",
    "\n",
    "El constructor __init__ debe recibir estos atributos como parámetros y asignarlos a los respectivos atributos de la clase.\n",
    "\n",
    "Los atributos representan la información personal y profesional de un empleado, como su nombre completo, edad, posición en la empresa, año de ingreso, días de vacaciones disponibles y una lista de herramientas que el empleado sabe utilizar."
   ]
  },
  {
   "cell_type": "code",
   "execution_count": null,
   "metadata": {},
   "outputs": [],
   "source": []
  },
  {
   "cell_type": "markdown",
   "metadata": {},
   "source": [
    "Los métodos que debe recibir esta clase son:\n",
    "\n",
    "1. Método \n",
    "descripcion\n",
    ": Proporciona una descripción del empleado, incluyendo su nombre, posición en la empresa, y la cantidad de días de vacaciones que le quedan para el año actual. Los pasos para resolver el ejercicio del método descripcion son:\n",
    "\n",
    "Utilizar F-Strings: Utiliza f-strings para construir la descripción del empleado de manera legible y eficiente.\n",
    "Especificar los Atributos a Incluir: Determina cuáles de los atributos del empleado se deben incluir en la descripción. Los atributos necesarios son nombre, posicion, año, y vacaciones.\n",
    "\n",
    "Concatenar los Atributos: Usar f-strings para concatenar los atributos seleccionados y crear una descripción coherente."
   ]
  },
  {
   "cell_type": "code",
   "execution_count": 2,
   "metadata": {},
   "outputs": [],
   "source": [
    "class Empleados:\n",
    "\n",
    "    def __init__(self, nombre, apellido, edad, posicion, año, dias_vacaciones, herramientas):\n",
    "        self.nombre = nombre\n",
    "        self.apellido = apellido\n",
    "        self.edad = edad\n",
    "        self.posicion = posicion\n",
    "        self.año = año\n",
    "        self.dias_vacaciones = dias_vacaciones\n",
    "        self.herramientas = herramientas\n",
    "\n",
    "    def descripcion(self):\n",
    "        return f'{self.nombre} {self.apellido} trabaja en la empresa desde {año}. Actualmente ocupa el cargo de {posicion}, y dispone de {dias_vacaciones} días de vacaciones.'"
   ]
  },
  {
   "cell_type": "markdown",
   "metadata": {},
   "source": [
    " 2. Método  cambiando_posicion\n",
    ": Verifica las herramientas que el empleado tiene en su lista y devuelve un mensaje específico basado en las herramientas. Puede elogiar al empleado si tiene \"Python\" en su lista o sugerirle que deje de usar \"Excel\" y aprenda Python. Los pasos para resolver este ejercicio son:\n",
    "\n",
    "Iterar a través de las Herramientas: La función debe recorrer la lista de herramientas (self.herramientas) del empleado.\n",
    "\n",
    "Evaluar Cada Herramienta: Para cada herramienta en la lista, verifica si es igual a \"Python\" o \"Excel\" (en minúsculas)."
   ]
  },
  {
   "cell_type": "code",
   "execution_count": 3,
   "metadata": {},
   "outputs": [],
   "source": [
    "    def cambiando_posicion(self):\n",
    "        self.herramientas = [self.herramientas]\n",
    "        for herramienta in self.herramientas:\n",
    "            if herramienta.lower() == 'Python':\n",
    "                return f'Python es una herramienta muy útil. Dominarla le será de utilidad.'\n",
    "            elif herramienta.lower() == 'Excel':\n",
    "                return f'Excel es bastante útil, pero Python le será de mayor utilidad en el trabajo.'\n",
    "            else:\n",
    "                return f'Le sugerimos que aprenda Python'\n",
    "\n",
    "    "
   ]
  },
  {
   "cell_type": "markdown",
   "metadata": {},
   "source": [
    "3. Método \"calcular_antiguedad\": \n",
    "\n",
    "Calcula la antigüedad del empleado en años y meses desde el año de ingreso hasta la fecha actual.\n",
    "\n",
    "Calcular la Antigüedad en Años y Meses: Utiliza el módulo datetime de Python para obtener el año actual y el mes actual.\n",
    "\n",
    "Generar el Mensaje de Antigüedad: Usa los valores calculados para años y meses de antigüedad para generar un mensaje descriptivo. Por ejemplo, \"Juan lleva 5 años y 3 meses en la empresa\"."
   ]
  },
  {
   "cell_type": "code",
   "execution_count": null,
   "metadata": {},
   "outputs": [],
   "source": [
    "    import datetime\n",
    "\n",
    "    def calcular_antiguedad(self):\n",
    "        \n",
    "    año_actual = 2024\n",
    "    antiguedad = fecha_actual - año_contratacion\n",
    "\n",
    "\n",
    "\n",
    "    "
   ]
  },
  {
   "cell_type": "markdown",
   "metadata": {},
   "source": [
    "4. Método 'solicitar_aumento_vacaciones': Permite al empleado solicitar un aumento en la cantidad de días de vacaciones. Si la solicitud es válida (es decir, se solicitan días positivos), actualiza los días de vacaciones del empleado y devuelve un mensaje de confirmación. Recibirá un parámetro dias_solicitados, que corresponderá con el número de días de vacaciones que quiere solicitar.\n",
    "\n",
    "Validar los Días Solicitados: Utiliza una estructura de control para verificar si la cantidad de días solicitados (dias_solicitados) es mayor que cero. Esto garantiza que solo se procesen solicitudes de aumento válidas.\n",
    "\n",
    "Actualizar los Días de Vacaciones: Si la solicitud es válida, aumenta la cantidad de días de vacaciones del empleado (self.vacaciones) sumando la cantidad de días solicitados.\n",
    "\n",
    "Generar un Mensaje de Confirmación: Crea un mensaje informativo que confirme la aprobación de la solicitud y muestre la cantidad actualizada de días de vacaciones del empleado.\n",
    "\n",
    "Manejar Solicitudes No Válidas: Si la solicitud no es válida (es decir, dias_solicitados es menor o igual a cero), generar un mensaje de error que indique que la solicitud debe ser un número positivo."
   ]
  },
  {
   "cell_type": "code",
   "execution_count": null,
   "metadata": {},
   "outputs": [],
   "source": [
    "    def solicitar_aumento_vacaciones(self, dias_solicitados):\n",
    "        if dias_solicitados > 0:\n",
    "            self.dias_vacaciones += dias_solicitados\n",
    "            return f'Hemos aprobado su solicitud de ampliación de las vacaciones. Podrá disfrutar de {self.dias_vacaciones} días de vacaciones en {año_actual}.')\n",
    "        else:\n",
    "            return f'Debe introducir un número válido de días.')\n",
    "    "
   ]
  },
  {
   "cell_type": "markdown",
   "metadata": {},
   "source": [
    "5. \n",
    "Método 'registrar_herramienta': Permite al empleado registrar una nueva herramienta en su lista de habilidades. La herramienta se registra si no está registrada previamente en la lista de herramientas del empleado. Recibirá un parámetro que será la nueva herramienta.\n",
    "\n",
    "Validar la Nueva Herramienta: Utiliza una estructura de control para verificar si la nueva herramienta no está en la lista de herramientas existentes.\n",
    "\n",
    "Agregar la Nueva Herramienta: Si la nueva herramienta no está en la lista existente, agregarla a la lista.\n",
    "\n",
    "Generar un Mensaje de Confirmación: Crea un mensaje informativo que confirme el registro exitoso de la nueva herramienta y muestre el nombre de la herramienta registrada.\n",
    "\n",
    "Manejar Herramientas Duplicadas: Si la nueva herramienta ya existe en la lista, genera un mensaje que indique que la herramienta ya ha sido registrada previamente."
   ]
  },
  {
   "cell_type": "code",
   "execution_count": 1,
   "metadata": {},
   "outputs": [],
   "source": [
    "def registrar_herramienta(self, herramienta, nueva_herramienta):\n",
    "    if nueva_herramienta in herramientas:\n",
    "        return f'La herramienta {herramienta} ya está registrada'\n",
    "    else:\n",
    "        return f'Ha registrado con éxito la herramienta {nueva_herramienta}.'"
   ]
  },
  {
   "cell_type": "markdown",
   "metadata": {},
   "source": [
    "6. Método \"cambiar_posicion\" : Permite al empleado cambiar su posición y salario en la empresa. Actualiza la posición y el salario y devuelve un mensaje de felicitación. Recibirá dos parámetros, la nueva posición y el nuevo salario.\n",
    "\n",
    "Actualizar la Posición y el Salario: Utiliza los parámetros nueva_posicion y nuevo_salario para actualizar la posición y el salario del empleado.\n",
    "\n",
    "Generar un Mensaje de Confirmación: Crea un mensaje informativo que confirme el cambio de posición y salario del empleado y muestre el nombre del empleado, la nueva posición y el nuevo salario."
   ]
  },
  {
   "cell_type": "code",
   "execution_count": null,
   "metadata": {},
   "outputs": [],
   "source": [
    "def cambiar_posicion(self, nueva_posicion, nuevo_salario):\n",
    "    self.posicion = nueva_posicion\n",
    "    self.salario = nuevo_salario\n",
    "\n",
    "    return f'{nombre}, confirmamos su nueva posición como {nueva_posicion}. Su salario ha sido modificado; ahora es de {nuevo_salario} €.'"
   ]
  },
  {
   "cell_type": "markdown",
   "metadata": {},
   "source": [
    "7. Método \"tomar_vacaciones\": Permite al empleado tomar días de vacaciones, solicitando la cantidad deseada y actualizando los días de vacaciones restantes. Verifica que se solicite al menos un día de vacaciones y que el empleado tenga suficientes días disponibles. No recibe ningún parámetro adicional.\n",
    "\n",
    "Solicitar la Cantidad de Días de Vacaciones: Usar la función input para solicitar al usuario la cantidad de días de vacaciones que desea tomar.\n",
    "\n",
    "Validar la Cantidad de Días: Comprueba que la cantidad de días solicitados sea mayor que cero. Si el usuario ingresa un valor no válido (cero o negativo), muestra un mensaje de error y solicita nuevamente la cantidad de días hasta que sea válida.\n",
    "\n",
    "Verificar Disponibilidad de Días de Vacaciones: Comprueba si la cantidad de días solicitados es menor o igual a la cantidad de días de vacaciones disponibles para el empleado.\n",
    "\n",
    "Actualizar Días de Vacaciones: Si hay suficientes días de vacaciones disponibles, modifica el código para que se modifiquen los días de vacaciones que le quedan. Si no hay suficientes días disponibles, mostrar un mensaje de error.\n",
    "\n",
    "Generar un Mensaje de Confirmación o Error: Dependiendo de si la solicitud se procesó con éxito o no, genera un mensaje que informe al empleado sobre el resultado de su solicitud."
   ]
  },
  {
   "cell_type": "code",
   "execution_count": null,
   "metadata": {},
   "outputs": [],
   "source": [
    "def tomar_vacaciones(self):\n",
    "    solicitud = int(input('Indique cúantos días de vacaciones desea solicitar'))\n",
    "        \n",
    "        if solicitud > 0 and solicitud <= dias_vacaciones: \n",
    "            dias_vacaciones -= int(dias_vacaciones) - solicitud\n",
    "            return f'Su solicitud de {solicitud} días de vacaciones ha sido aprobada. Le quedan {dias_vacaciones} días de vacaciones.'\n",
    "        elif solicitud < dias_vacaciones or solicitud > dias_vacaciones: \n",
    "            return f'Ha introducido un número erréno de días.'"
   ]
  },
  {
   "cell_type": "markdown",
   "metadata": {},
   "source": [
    "8. \n",
    "Método \"solicitar_aumento_salario\": Permite al empleado solicitar un aumento de salario en porcentaje y calcula el nuevo salario. Verifica que el aumento sea un valor positivo o igual a cero. Este método no recibe ningún parámetro.\n",
    "\n",
    "Solicitar el Porcentaje de Aumento de Salario: Utiliza la función input para solicitar al usuario el porcentaje de aumento de salario que desea. Asegurate de que el valor ingresado sea un número decimal.\n",
    "\n",
    "Validar el Porcentaje de Aumento: Utiliza un bucle while para garantizar que el porcentaje de aumento sea mayor o igual a cero. Si el usuario ingresa un valor no válido (negativo), muestra un mensaje de error y solicita nuevamente el porcentaje hasta que sea válido.\n",
    "\n",
    "Calcular el Nuevo Salario: Calcula el nuevo salario.\n",
    "Generar un Mensaje de Confirmación: Crea un mensaje que informe al empleado sobre el resultado de su solicitud. Incluye el nuevo salario calculado en el mensaje.\n",
    "\n",
    "Manejar Errores de Entrada: Utiliza un bloque try...except para manejar posibles errores de entrada, como cuando el usuario ingresa un valor que no se puede convertir a un número decimal."
   ]
  },
  {
   "cell_type": "code",
   "execution_count": null,
   "metadata": {},
   "outputs": [],
   "source": [
    "def solicitar_aumento_salario(self):\n",
    "    "
   ]
  },
  {
   "cell_type": "markdown",
   "metadata": {},
   "source": [
    "9. Método \"realizar_evaluacion\": Permite al empleado recibir una calificación de desempeño, con opciones como \"Excelente\", \"Bueno\", \"Regular\" o \"Malo\". Verifica que la calificación ingresada sea válida. Este método no recibe ningún parámetro.\n",
    "\n",
    "Solicitar la Calificación del Desempeño: Utiliza la función input para solicitar al usuario que califique su propio desempeño. Asegurate de que el valor ingresado sea una de las opciones válidas: \"excelente\", \"bueno\", \"regular\" o \"malo\".\n",
    "\n",
    "Validar la Calificación: Utiliza un bucle while para garantizar que la calificación ingresada sea una de las opciones válidas. Si el usuario ingresa una calificación no válida, muestra un mensaje de error y solicita nuevamente la calificación hasta que sea válida.\n",
    "\n",
    "Generar un Mensaje de Retroalimentación: Crear un mensaje que proporcione retroalimentación al empleado basada en la calificación ingresada.\n",
    "\n",
    "Retornar el Mensaje Generado: La función debe incluir una instrucción return que devuelva el mensaje generado."
   ]
  },
  {
   "cell_type": "code",
   "execution_count": null,
   "metadata": {},
   "outputs": [],
   "source": [
    "def realizar_evaluacion(self):\n",
    "    opciones_validas = ['Excelente', 'Bueno', 'Regular', 'Malo']\n",
    "    feedback = {'Excelente': 'Nos alegra que sea un apasionado de su trabajo. Siga así', 'Bueno': 'Está haciendo un buen trabajo. Recuerde aspirar siempre a la excelencia', 'Regular': 'Lo sentimos. Intente encontrar motivación para mejorar día a día', 'Malo' : 'Nos gustaría ayudarle; hable con Recursos Humanos'}\n",
    "\n",
    "    while True:\n",
    "        desempeño = input('Califique su propio desempeño: Excelente, Bueno, Regular, Malo')\n",
    "        \n",
    "        if desempeño.lower not in opciones_validas:\n",
    "            return f'Introduzca una opción válida, por favor'\n",
    "        else:\n",
    "            break\n",
    "    \n",
    "    return f'{feedback}'"
   ]
  },
  {
   "cell_type": "markdown",
   "metadata": {},
   "source": [
    "10. En este ejercicio, se te pide crear una herencia de la clase creada en el ejercicio anterior. \n",
    "Esta clase hija se llama \"Gerente\" que hereda de la clase creada en el ejercicio anterior. Las instrucciones para crear esta clase son:\n",
    "\n",
    "Crea la clase derivada \"Gerente\" que hereda de la clase \"Empleados\". Esta clase debe tener los siguientes atributos en su constructor además de los heredados de \"Empleados\":\n",
    "\n",
    "departamento (str): El departamento al que está asignado el gerente.\n",
    "empleados_a_cargo (list): Una lista que contiene los nombres de los empleados que están a cargo del gerente.\n",
    "\n",
    "Implementa los siguientes métodos en la clase \"Gerente\":\n",
    "\n",
    "asignar_tareas(tarea, empleado): Este método debe recibir el nombre de una tarea y el nombre de un empleado y debe devolver una cadena que indique que el gerente ha asignado la tarea a ese empleado.\n",
    "\n",
    "revisar_desempeno_empleado(empleado): Este método debe recibir el nombre de un empleado y debe devolver una cadena que indique que el gerente está revisando el desempeño de ese empleado.\n",
    "\n",
    "gestionar_empleados(accion, empleado): Este método permite al gerente realizar acciones de contratación o despido de empleados a cargo. Debe recibir una acción (\"contratar\" o \"despedir\") y el nombre de un empleado. Si la acción es \"contratar\", agrega al empleado a la lista de empleados a cargo y devuelve un mensaje indicando que el empleado ha sido contratado por el gerente. Si la acción es \"despedir\" y el empleado está en la lista de empleados a cargo, lo elimina y devuelve un mensaje de despido. Si la acción no es válida, devuelve un mensaje indicando que la acción no es válida."
   ]
  },
  {
   "cell_type": "code",
   "execution_count": null,
   "metadata": {},
   "outputs": [],
   "source": [
    "class Gerente(Empleados):\n",
    "\n",
    "    def __init__(self, departamento, empleados_a_cargo = []):\n",
    "\n",
    "        self.departamento = departamento\n",
    "        self.empleados_a_cargo = empleados_a_cargo\n",
    "        super().__init__(nombre, apellido, edad, posicion, año, dias_vacaciones, herramientas)\n",
    "\n",
    "    def asignar_tareas(self, tarea, empleado):\n",
    "        self.tarea = tarea\n",
    "        self.empleado = empleado\n",
    "        return f'El gerente {self.nombre} ha asignado la tarea {tarea} al empleado {empleado}.'\n",
    "    \n",
    "    def revisar_desempeño_empleado(self, empleado):\n",
    "        return f'El gerente{self.nombre} está revisando el desempeño de {empleado}:\n",
    "\n",
    "    def gestionar_empleados(self, accion, empleado):\n",
    "    if accion not in ('contratar', 'despedir'):\n",
    "        return f'La acción no es válida. Elija contratar o despedir'\n",
    "    elif accion == 'contratar':\n",
    "        self.empleados_a_cargo.append(empleado)\n",
    "        return f'El gerente {self.nombre} ha contratado a {empleado}'\n",
    "    elif accion == 'despedir' and {empleado} in self.empleados_a_cargo:\n",
    "        self.empleados_a_cargo.pop(empleado)\n",
    "        return f'{sel.nombre} ha despedido a {empleado}'\n",
    "\n",
    "\n",
    "\n",
    "    "
   ]
  }
 ],
 "metadata": {
  "kernelspec": {
   "display_name": "base",
   "language": "python",
   "name": "python3"
  },
  "language_info": {
   "codemirror_mode": {
    "name": "ipython",
    "version": 3
   },
   "file_extension": ".py",
   "mimetype": "text/x-python",
   "name": "python",
   "nbconvert_exporter": "python",
   "pygments_lexer": "ipython3",
   "version": "3.9.7"
  }
 },
 "nbformat": 4,
 "nbformat_minor": 2
}
