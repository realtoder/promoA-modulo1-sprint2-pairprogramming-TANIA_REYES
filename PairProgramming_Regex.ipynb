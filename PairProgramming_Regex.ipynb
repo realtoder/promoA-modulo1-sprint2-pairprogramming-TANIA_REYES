{
 "cells": [
  {
   "cell_type": "markdown",
   "metadata": {},
   "source": [
    "1. Validar un número de teléfono.\n",
    "\n",
    "Descripción: Verificar si una cadena representa un número de teléfono válido en el formato (XXX) XXX-XXXX.\n",
    "\n",
    "Probad para cada uno de los teléfonos que tenemos en la siguiente lista:\n",
    "\n",
    "telefonos = [\"(123) 456-7890\", \"178 1890-733\", \"(555) 238-1987\", \"(123) 4560-7890\", \"(ABC) 098-1111\"]"
   ]
  },
  {
   "cell_type": "code",
   "execution_count": 13,
   "metadata": {},
   "outputs": [
    {
     "name": "stdout",
     "output_type": "stream",
     "text": [
      "El número (123) 456-7890 es válido\n",
      "El número 178 1890-733 no es válido\n",
      "El número (555) 238-1987 es válido\n",
      "El número (123) 4560-7890 no es válido\n",
      "El número (ABC) 098-1111 no es válido\n"
     ]
    }
   ],
   "source": [
    "# Importaos el re\n",
    "import re \n",
    "\n",
    "# Creamos la lista de teléfonos que queremos validar\n",
    "telefonos = [\"(123) 456-7890\", \"178 1890-733\", \"(555) 238-1987\", \"(123) 4560-7890\", \"(ABC) 098-1111\"]\n",
    "\n",
    "# Creamos un bucle for para iterar por cada uno de los números de teléfono\n",
    "for telefono in telefonos:\n",
    "    \n",
    "    patron = \"^\\(\\d{3}\\) \\d{3}-\\d{4}$\"  # Definimos un patrón que tenga al principio (^) 3 dígitos entre paréntesis, luego un grupo de tres dígitos, un guión y un grupo de 4 dígitos al final ($)\n",
    "    \n",
    "    if re.search(patron , telefono): # Si el número coincide con el patrón de la lista teléfonos, se printea que es válido\n",
    "        print(f\"El número {telefono} es válido\") \n",
    "    \n",
    "    else:\n",
    "        print(f\"El número {telefono} no es válido\") # Si no, se printea que no lo es"
   ]
  },
  {
   "cell_type": "markdown",
   "metadata": {},
   "source": [
    "2. Buscar todas las direcciones de correo electrónico en un texto.\n",
    "\n",
    "Descripción: Encontrar todas las direcciones de correo electrónico presentes en una cadena de texto.\n",
    "\n",
    "Probad con el siguiente string:\n",
    "\n",
    "texto = \"Mi correo es user@example.com. Contacta conmigo en john.doe@email.com\""
   ]
  },
  {
   "cell_type": "code",
   "execution_count": 3,
   "metadata": {},
   "outputs": [
    {
     "name": "stdout",
     "output_type": "stream",
     "text": [
      "['user@example.com', 'doe@email.com']\n"
     ]
    }
   ],
   "source": [
    "texto = \"Mi correo es user@example.com. Contacta conmigo en john.doe@email.com\" # Creamos la variable que nos piden\n",
    "\n",
    "patron_correo = \"[\\w\\d]+@[\\w\\d]+\\.\\w+\" # el patrón de un correo electrónico es \"letras o números\" \"arroba\" \"letras o números\" \"punto\" \"letras\"\n",
    "  \n",
    "direcciones_correo = re.findall(patron_correo , texto)\n",
    "\n",
    "print(direcciones_correo)"
   ]
  },
  {
   "cell_type": "markdown",
   "metadata": {},
   "source": [
    "3. Validar un código postal.\n",
    "\n",
    "Descripción: Verificar si una cadena representa un código postal válido de 5 dígitos.\n",
    "\n",
    "Probad para cada uno de los códigos postales que tenemos en la siguiente lista:\n",
    "\n",
    "codigos_postales = [\"12345\", \"190037\", \"78409\", \"986449\", \"19305\"]"
   ]
  },
  {
   "cell_type": "code",
   "execution_count": 10,
   "metadata": {},
   "outputs": [
    {
     "name": "stdout",
     "output_type": "stream",
     "text": [
      "El código postal 12345 es válido\n",
      "El código postal 190037 no es válido\n",
      "El código postal 78409 es válido\n",
      "El código postal 986449 no es válido\n",
      "El código postal 19305 es válido\n"
     ]
    }
   ],
   "source": [
    "codigos_postales = [\"12345\", \"190037\", \"78409\", \"986449\", \"19305\"] # Creamos una lista con los códigos que queremos verificar. Para ser válidos, tienen que tener 5 dígitos\n",
    "\n",
    "patron_cp = \"^\\d{5}$\" # Si lo pongo así: \\d{5}, me salen todos válidos. NO SÉ POR QUÉ.\n",
    "\n",
    "for codigo_postal in codigos_postales: # Itero sobre la lista, los que se ajustan al patrón son válidos, los que no, no lo son.\n",
    "    \n",
    "    if re.search(patron_cp, codigo_postal):\n",
    "        print(f\"El código postal {codigo_postal} es válido\") \n",
    "    \n",
    "    else:\n",
    "        print(f\"El código postal {codigo_postal} no es válido\")"
   ]
  },
  {
   "cell_type": "markdown",
   "metadata": {},
   "source": [
    "4. Encontrar todas las palabras que comienzan con una vocal en un texto.\n",
    "\n",
    "Descripción: Encontrar todas las palabras en un texto que comienzan con una vocal (a, e, i, o, u).\n",
    "\n",
    "Probad con el siguiente string:\n",
    "\n",
    "texto = \"El perro está ladrando. Ana tiene una manzana. La casa es grande.\""
   ]
  },
  {
   "cell_type": "code",
   "execution_count": 18,
   "metadata": {},
   "outputs": [
    {
     "name": "stdout",
     "output_type": "stream",
     "text": [
      "['El', 'perro', 'está', 'ladrando.', 'Ana', 'tiene', 'una', 'manzana.', 'La', 'casa', 'es', 'grande.']\n",
      "Las palabras que empiean por vocal son: ['El', 'está', 'Ana', 'una', 'es']\n"
     ]
    }
   ],
   "source": [
    "texto = \"El perro está ladrando. Ana tiene una manzana. La casa es grande.\"\n",
    "lista_texto = texto.split() # dividimos el string en una lista de palabras\n",
    "print(lista_texto)\n",
    "lista_comienza_vocal = [] # creamos una lista vacía\n",
    "\n",
    "for palabra in lista_texto:\n",
    "    patron_comienza_vocal = \"^[aeiouAEIOU]\\w*$\" \n",
    "\n",
    "    if re.findall(patron_comienza_vocal, palabra):\n",
    "        lista_comienza_vocal.append(palabra)  #agregamos a la lista todas las palabras que cumplan el patrón\n",
    "print(f'Las palabras que empiean por vocal son: {lista_comienza_vocal}')\n"
   ]
  },
  {
   "cell_type": "markdown",
   "metadata": {},
   "source": [
    "5. Extraer todos los hashtags de un texto.\n",
    "\n",
    "Descripción: Extraer todos los hashtags (#) presentes en una cadena de texto.\n",
    "\n",
    "Probad con el siguiente string:\n",
    "\n",
    "texto = \"Me encanta el #deporte. #FelizViernes a todos. Estoy en la conferencia #Tech2022.\""
   ]
  },
  {
   "cell_type": "code",
   "execution_count": 31,
   "metadata": {},
   "outputs": [
    {
     "data": {
      "text/plain": [
       "'Me encanta el  deporte.  FelizViernes a todos. Estoy en la conferencia  Tech2022.'"
      ]
     },
     "execution_count": 31,
     "metadata": {},
     "output_type": "execute_result"
    }
   ],
   "source": [
    "# CON ESTE MÉTODO REEMPLAZO LOS HASHTAGS POR ESPACIOS, PERO LUEGO QUEDAN ESPACIOS DOBLES QUE NO SÉ CÓMO ELIMINAR\n",
    "\n",
    "import re\n",
    "texto = \"Me encanta el #deporte. #FelizViernes a todos. Estoy en la conferencia #Tech2022.\"\n",
    "re.sub('#', ' ', texto)\n"
   ]
  },
  {
   "cell_type": "markdown",
   "metadata": {},
   "source": [
    "6. Buscar todos los números decimales en una cadena de texto.\n",
    "\n",
    "Descripción: Encontrar todos los números decimales presentes en una cadena de texto.\n",
    "\n",
    "Probad con el siguiente string:\n",
    "\n",
    "texto = \"El precio es $19.99. La temperatura es 25.5°C. El índice de inflación es del 2.5%.\"     "
   ]
  },
  {
   "cell_type": "code",
   "execution_count": 33,
   "metadata": {},
   "outputs": [
    {
     "name": "stdout",
     "output_type": "stream",
     "text": [
      "La lista de números decimales es: ['19.99', '25.5', '2.5']\n"
     ]
    }
   ],
   "source": [
    "texto = \"El precio es $19.99. La temperatura es 25.5°C. El índice de inflación es del 2.5%.\"\n",
    "\n",
    "patron_decimales = \"\\d+\\.\\d+\" # d= digit, o sea, número    .\\ escapamos el punto, que es un operador propio de regex\n",
    "  \n",
    "lista_decimales = re.findall(patron_decimales, texto)\n",
    "\n",
    "print(f'La lista de números decimales es: {lista_decimales}')"
   ]
  },
  {
   "cell_type": "markdown",
   "metadata": {},
   "source": [
    "7. Validar un nombre de usuario.\n",
    "\n",
    "Descripción: Verificar si una cadena representa un nombre de usuario válido, que contiene solo letras minúsculas, números y guiones bajos (_).\n",
    "\n",
    "Probad con la siguiente lista de usuarios:\n",
    "\n",
    "lista_usuarios = [\"juan_doe123\", \"lola_12\", \"Aurora_23\", \"12marta_lopez\"]"
   ]
  },
  {
   "cell_type": "code",
   "execution_count": 39,
   "metadata": {},
   "outputs": [
    {
     "name": "stdout",
     "output_type": "stream",
     "text": [
      "La lista de usuarios válidos es: ['juan_doe123', 'lola_12', '12marta_lopez']\n"
     ]
    }
   ],
   "source": [
    "lista_usuarios = [\"juan_doe123\", \"lola_12\", \"Aurora_23\", \"12marta_lopez\"]\n",
    "\n",
    "patron_usuarios_validos = \"^[a-z0-9_]+$\"\n",
    "\n",
    "lista_usuarios_validos = []\n",
    "\n",
    "for palabra in lista_usuarios:\n",
    "       \n",
    "    if re.search(patron_usuarios_validos, palabra): \n",
    "            \n",
    "        lista_usuarios_validos.append(palabra)\n",
    "            \n",
    "print(f\"La lista de usuarios válidos es: {lista_usuarios_validos}\")"
   ]
  },
  {
   "cell_type": "markdown",
   "metadata": {},
   "source": [
    "8. Encontrar todas las fechas en formato \"dd/mm/aaaa\" en un texto.\n",
    "\n",
    "Descripción: Encontrar todas las fechas válidas en formato \"dd/mm/aaaa\" presentes en una cadena de texto.\n",
    "\n",
    "Probad con el siguiente string:\n",
    "\n",
    "texto = \"La fecha límite es el 31/12/2022. Hoy es 01/01/2023. Cumpleaños: 15/05/1990.\""
   ]
  },
  {
   "cell_type": "code",
   "execution_count": 42,
   "metadata": {},
   "outputs": [
    {
     "name": "stdout",
     "output_type": "stream",
     "text": [
      "La lista de fechas válidas es: ['31/12/2022', '01/01/2023', '15/05/1990']\n"
     ]
    }
   ],
   "source": [
    "texto = \"La fecha límite es el 31/12/2022. Hoy es 01/01/2023. Cumpleaños: 15/05/1990.\"\n",
    "\n",
    "patron_fecha_valida = \"\\d{2}/\\d{2}/\\d{4}\"\n",
    "  \n",
    "lista_fechas_validas = re.findall(patron_fecha_valida , texto)\n",
    "\n",
    "print(f\"La lista de fechas válidas es: {lista_fechas_validas}\")\n"
   ]
  },
  {
   "cell_type": "markdown",
   "metadata": {},
   "source": [
    "9. Remover caracteres especiales.\n",
    "\n",
    "Descripción: Dada una cadena de texto, remover cualquier carácter especial, como signos de puntuación y símbolos.\n",
    "\n",
    "Probad con el siguiente string:\n",
    "\n",
    "texto = '¡Hola, cómo estás? ¿Todo bien?'"
   ]
  },
  {
   "cell_type": "code",
   "execution_count": 46,
   "metadata": {},
   "outputs": [
    {
     "name": "stdout",
     "output_type": "stream",
     "text": [
      "El texto sin caracteres especiales es: Hola cómo estás Todo bien\n"
     ]
    }
   ],
   "source": [
    "texto = '¡Hola, cómo estás? ¿Todo bien?'\n",
    "\n",
    "patron_especiales = \"[^\\w\\s]+\" # w = letras    s= espacios\n",
    "\n",
    "texto = re.sub(patron_especiales, \"\" , texto)\n",
    "\n",
    "print(f\"El texto sin caracteres especiales es: {texto}\")"
   ]
  },
  {
   "cell_type": "markdown",
   "metadata": {},
   "source": [
    "10. BONUS: Enmascarar información personal.\n",
    "\n",
    "Descripción: Dada una cadena de texto que contiene información personal, como nombres y direcciones, enmascarar esta información reemplazándola con asteriscos (*).\n",
    "\n",
    "Probad con este string:\n",
    "\n",
    "texto = 'El nombre del cliente es John Doe y su dirección es 123 Main Street.'"
   ]
  }
 ],
 "metadata": {
  "kernelspec": {
   "display_name": "base",
   "language": "python",
   "name": "python3"
  },
  "language_info": {
   "codemirror_mode": {
    "name": "ipython",
    "version": 3
   },
   "file_extension": ".py",
   "mimetype": "text/x-python",
   "name": "python",
   "nbconvert_exporter": "python",
   "pygments_lexer": "ipython3",
   "version": "3.9.7"
  }
 },
 "nbformat": 4,
 "nbformat_minor": 2
}
