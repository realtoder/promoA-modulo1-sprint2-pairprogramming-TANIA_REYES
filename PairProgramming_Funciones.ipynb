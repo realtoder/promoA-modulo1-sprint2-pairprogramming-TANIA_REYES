{
 "cells": [
  {
   "cell_type": "code",
   "execution_count": 14,
   "metadata": {},
   "outputs": [
    {
     "data": {
      "text/plain": [
       "28.26"
      ]
     },
     "execution_count": 14,
     "metadata": {},
     "output_type": "execute_result"
    }
   ],
   "source": [
    "# 1. Calcular el área de un círculo.\n",
    "# Descripción: Crea una función llamada calcular_area_circulo que tome el radio como parámetro y devuelva el área del círculo.\n",
    "\n",
    "def calcular_area_circulo(radio):\n",
    " \n",
    "        area = 3.14 * radio**2\n",
    "        return area\n",
    "    \n",
    "calcular_area_circunferencia(3)\n",
    "                    "
   ]
  },
  {
   "cell_type": "code",
   "execution_count": null,
   "metadata": {},
   "outputs": [],
   "source": [
    "# 2. Contar la cantidad de caracteres en una cadena.\n",
    "# Descripción: Crea una función llamada contar_caracteres que tome una cadena como parámetro y devuelva la cantidad \n",
    "# de caracteres que contiene.\n",
    "\n",
    "def conteo_caracteres(cadena):\n",
    "    caracteres = len(cadena)\n",
    "    return caracteres"
   ]
  },
  {
   "cell_type": "code",
   "execution_count": 36,
   "metadata": {},
   "outputs": [],
   "source": [
    "# 3. Determinar si una cadena es un palíndromo.\n",
    "# Descripción: Crea una función llamada es_palindromo que tome una cadena como parámetro y devuelva True si es un palíndromo, \n",
    "# o False si no lo es.\n",
    "\n",
    "def es_palindromo(cadena):\n",
    "    cadena = cadena.replace(' ','')\n",
    "    return cadena == cadena[::-1]\n",
    "    \n"
   ]
  },
  {
   "cell_type": "code",
   "execution_count": 35,
   "metadata": {},
   "outputs": [
    {
     "data": {
      "text/plain": [
       "True"
      ]
     },
     "execution_count": 35,
     "metadata": {},
     "output_type": "execute_result"
    }
   ],
   "source": [
    "es_palindromo('yo hago yoga hoy')"
   ]
  },
  {
   "cell_type": "code",
   "execution_count": 37,
   "metadata": {},
   "outputs": [
    {
     "data": {
      "text/plain": [
       "False"
      ]
     },
     "execution_count": 37,
     "metadata": {},
     "output_type": "execute_result"
    }
   ],
   "source": [
    "es_palindromo('yo hago yoga mañana')"
   ]
  },
  {
   "cell_type": "code",
   "execution_count": 2,
   "metadata": {},
   "outputs": [
    {
     "data": {
      "text/plain": [
       "4.75"
      ]
     },
     "execution_count": 2,
     "metadata": {},
     "output_type": "execute_result"
    }
   ],
   "source": [
    "# 4. Calcular el promedio de una lista de números.\n",
    "# Descripción: Crea una función llamada calcular_promedio que tome una lista de números como parámetro y devuelva el promedio de todos sus elementos.\n",
    "# promedio = n1 + n2 + n3 / 3\n",
    "\n",
    "def calcular_promedio(lista):\n",
    "    suma = sum(lista)\n",
    "    promedio = suma / len(lista)\n",
    "    return promedio \n",
    "    \n",
    "\n",
    "lista_numeros = [2, 3, 9, 5]\n",
    "calcular_promedio(lista_numeros)"
   ]
  },
  {
   "cell_type": "code",
   "execution_count": null,
   "metadata": {},
   "outputs": [],
   "source": [
    "# 5. Calcular el interés compuesto.\n",
    "# Descripción: Crea una función llamada calcular_interes_compuesto que tome el capital inicial, la tasa de interés \n",
    "# y el número de períodos como parámetros y devuelva el beneficio final después del interés compuesto.\n",
    "\n",
    "# Fórmula del interés compuesto\n",
    "\n",
    "M = C × (1 + i) n,"
   ]
  },
  {
   "cell_type": "code",
   "execution_count": null,
   "metadata": {},
   "outputs": [],
   "source": [
    "# 6. Validar si una palabra es un anagrama de otra.\n",
    "# Descripción: Crea una función llamada es_anagrama que tome dos palabras como parámetros y devuelva True si una es un \n",
    "# anagrama de la otra, o False si no lo es.\n",
    "# Anagrama: Palabra o frase resultante de un anagrama o cambio en el orden de las letras, como de amor, Roma, o viceversa."
   ]
  },
  {
   "cell_type": "code",
   "execution_count": 28,
   "metadata": {},
   "outputs": [],
   "source": [
    "def es_anagrama(pal1, pal2):\n",
    "    lista1 = list(pal1)\n",
    "    lista2 = list(pal2)\n",
    "\n",
    "    lista1.sort()\n",
    "    lista2.sort()\n",
    "\n",
    "    return lista1 == lista2"
   ]
  },
  {
   "cell_type": "code",
   "execution_count": 29,
   "metadata": {},
   "outputs": [
    {
     "data": {
      "text/plain": [
       "False"
      ]
     },
     "execution_count": 29,
     "metadata": {},
     "output_type": "execute_result"
    }
   ],
   "source": [
    "es_anagrama('hola', 'bola')"
   ]
  },
  {
   "cell_type": "code",
   "execution_count": 31,
   "metadata": {},
   "outputs": [
    {
     "data": {
      "text/plain": [
       "True"
      ]
     },
     "execution_count": 31,
     "metadata": {},
     "output_type": "execute_result"
    }
   ],
   "source": [
    "es_anagrama('roma', 'amor')"
   ]
  },
  {
   "cell_type": "code",
   "execution_count": 30,
   "metadata": {},
   "outputs": [
    {
     "name": "stdout",
     "output_type": "stream",
     "text": [
      "False\n"
     ]
    }
   ],
   "source": [
    "# 7. Validar si una cadena de texto es un isograma.\n",
    "# Descripción: Crea una función llamada es_isograma que tome una cadena de texto como parámetro y devuelva True si es un isograma. \n",
    "# En caso contrario, devuelve False.\n",
    "# Isograma es una palabra o frase en la que cada letra aparece el mismo número de veces.\n",
    "\n",
    "\n",
    "def es_isograma(palabra):\n",
    "    \n",
    "    # Convertimos la palabra a minúsculas (programación defensiva)\n",
    "    palabra = palabra.lower()\n",
    "    \n",
    "    # Creamos un set llamado 'letras vistas', que NO permitirá letras repetidas.\n",
    "    letras_vistas = set()\n",
    "    \n",
    "    # Iteramos sobre cada letra de la palabra\n",
    "    for letra in palabra:\n",
    "        # Si la letra ya está en el set, quiere decir que está repetida y que, por tanto, no estamos ante un isograma\n",
    "        if letra in letras_vistas:\n",
    "            return False\n",
    "        # Si la letra no está en el set, la añadimos con el método .add de sets\n",
    "        letras_vistas.add(letra)\n",
    "    \n",
    "    # No se han encontrado letras repetidas, por lo que SÍ es un isograma\n",
    "    return True"
   ]
  },
  {
   "cell_type": "code",
   "execution_count": null,
   "metadata": {},
   "outputs": [],
   "source": [
    "# 8. Concatenar múltiples cadenas de texto\n",
    "# Descripción: Crea una función llamada concatenar_cadenas que tome una cantidad variable de cadenas de texto como argumentos\n",
    "# y devuelva una única cadena que contenga la concatenación de todas las cadenas ingresadas."
   ]
  },
  {
   "cell_type": "code",
   "execution_count": 50,
   "metadata": {},
   "outputs": [
    {
     "name": "stdout",
     "output_type": "stream",
     "text": [
      "{'nombre': 'Felipe', 'apellido': 'Lotas', 'edad': 48, 'ciudad': 'Calzadilla de los Barros'}\n",
      "{'nombre': 'Armando', 'apellido': 'Follon', 'edad': 27, 'ciudad': 'Tomelloso'}\n"
     ]
    }
   ],
   "source": [
    "# 9. Crear un diccionario con información de una persona.\n",
    "# Descripción: Crea una función llamada crear_persona que tome como argumentos clave-valor los datos de una persona, \n",
    "# como nombre, edad, ciudad, etc., y devuelva un diccionario con toda la información ingresada.\n",
    "\n",
    "\n",
    "\n",
    "# Definimos la función y le damos los tres parámetros que nos piden más uno más, el apellido\n",
    "def crear_persona(nombre, apellido, edad, ciudad):\n",
    "\n",
    "# Creamos un diccionario vacío\n",
    "    persona = {}\n",
    "\n",
    "# A ese diccionario le vamos a agregar \n",
    "    persona.update({'nombre' : nombre, 'apellido' : apellido, 'edad' : edad, 'ciudad' : ciudad})\n",
    "\n",
    "    return persona\n",
    "\n",
    "persona1 = crear_persona('Felipe', 'Lotas', 48, 'Calzadilla de los Barros')\n",
    "persona2 = crear_persona('Armando', 'Follon', 27, 'Tomelloso')\n",
    "\n",
    "print(persona1)\n",
    "print(persona2)\n",
    "\n",
    "\n"
   ]
  },
  {
   "cell_type": "code",
   "execution_count": null,
   "metadata": {},
   "outputs": [],
   "source": []
  },
  {
   "cell_type": "code",
   "execution_count": null,
   "metadata": {},
   "outputs": [],
   "source": [
    "# 10. Encontrar el número que falta en una lista ordenada de números consecutivos.\n",
    "# Descripción: Crea una función llamada encontrar_numero_faltante que tome una lista de números consecutivos \n",
    "# (del 1 al N, sin repetir) con un número faltante y devuelva ese número faltante."
   ]
  },
  {
   "cell_type": "code",
   "execution_count": null,
   "metadata": {},
   "outputs": [],
   "source": [
    "# 11. Encontrar el elemento duplicado en una lista de números.\n",
    "# Descripción: Crea una función llamada encontrar_duplicado que tome una lista de números enteros y devuelva el elemento \n",
    "# que está duplicado en la lista."
   ]
  }
 ],
 "metadata": {
  "kernelspec": {
   "display_name": "base",
   "language": "python",
   "name": "python3"
  },
  "language_info": {
   "codemirror_mode": {
    "name": "ipython",
    "version": 3
   },
   "file_extension": ".py",
   "mimetype": "text/x-python",
   "name": "python",
   "nbconvert_exporter": "python",
   "pygments_lexer": "ipython3",
   "version": "3.9.7"
  }
 },
 "nbformat": 4,
 "nbformat_minor": 2
}
